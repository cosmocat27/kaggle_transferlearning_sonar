{
 "cells": [
  {
   "cell_type": "code",
   "execution_count": 4,
   "metadata": {
    "collapsed": false,
    "deletable": true,
    "editable": true
   },
   "outputs": [
    {
     "name": "stdout",
     "output_type": "stream",
     "text": [
      "biology.csv\n",
      "cooking.csv\n",
      "crypto.csv\n",
      "diy.csv\n",
      "robotics.csv\n",
      "test.csv\n",
      "travel.csv\n",
      "\n"
     ]
    }
   ],
   "source": [
    "# Imports\n",
    "import pandas as pd\n",
    "from pandas import Series,DataFrame\n",
    "\n",
    "import numpy as np\n",
    "import matplotlib.pyplot as plt\n",
    "%matplotlib inline\n",
    "\n",
    "# machine learning\n",
    "from sklearn.feature_extraction.text import CountVectorizer\n",
    "\n",
    "# preprocessing\n",
    "from bs4 import BeautifulSoup\n",
    "from nltk.corpus import stopwords\n",
    "import re\n",
    "import string\n",
    "\n",
    "# Input data files are available in the \"../input/\" directory.\n",
    "# For example, running this (by clicking run or pressing Shift+Enter) will list the files in the input directory\n",
    "\n",
    "from subprocess import check_output\n",
    "print(check_output([\"ls\", \"../input\"]).decode(\"utf8\"))\n",
    "\n",
    "# Any results you write to the current directory are saved as output."
   ]
  },
  {
   "cell_type": "code",
   "execution_count": 5,
   "metadata": {
    "collapsed": true,
    "deletable": true,
    "editable": true
   },
   "outputs": [],
   "source": [
    "dataframes = {\n",
    "    \"cooking\": pd.read_csv(\"../input/cooking.csv\"),\n",
    "    \"crypto\": pd.read_csv(\"../input/crypto.csv\"),\n",
    "    \"robotics\": pd.read_csv(\"../input/robotics.csv\"),\n",
    "    \"biology\": pd.read_csv(\"../input/biology.csv\"),\n",
    "    \"travel\": pd.read_csv(\"../input/travel.csv\"),\n",
    "    \"diy\": pd.read_csv(\"../input/diy.csv\"),\n",
    "}\n",
    "\n",
    "test = pd.read_csv(\"../input/test.csv\")"
   ]
  },
  {
   "cell_type": "code",
   "execution_count": 6,
   "metadata": {
    "collapsed": true,
    "deletable": true,
    "editable": true
   },
   "outputs": [],
   "source": [
    "# remove html tags and uris from contents\n",
    "\n",
    "uri_re = r'(?i)\\b((?:https?://|www\\d{0,3}[.]|[a-z0-9.\\-]+[.][a-z]{2,4}/)(?:[^\\s()<>]+|\\(([^\\s()<>]+|(\\([^\\s()<>]+\\)))*\\))+(?:\\(([^\\s()<>]+|(\\([^\\s()<>]+\\)))*\\)|[^\\s`!()\\[\\]{};:\\'\".,<>?«»“”‘’]))'\n",
    "\n",
    "def stripTagsAndUris(x):\n",
    "    if x:\n",
    "        # BeautifulSoup on content\n",
    "        soup = BeautifulSoup(x, \"html.parser\")\n",
    "        # Stripping all <code> tags with their content if any\n",
    "        if soup.code:\n",
    "            soup.code.decompose()\n",
    "        # Get all the text out of the html\n",
    "        text =  soup.get_text()\n",
    "        # Returning text stripping out all uris\n",
    "        return re.sub(uri_re, \"\", text)\n",
    "    else:\n",
    "        return \"\""
   ]
  },
  {
   "cell_type": "code",
   "execution_count": 7,
   "metadata": {
    "collapsed": true,
    "deletable": true,
    "editable": true
   },
   "outputs": [],
   "source": [
    "for df in dataframes.values():\n",
    "    df[\"content\"] = df[\"content\"].map(stripTagsAndUris)"
   ]
  },
  {
   "cell_type": "code",
   "execution_count": 8,
   "metadata": {
    "collapsed": true,
    "deletable": true,
    "editable": true
   },
   "outputs": [],
   "source": [
    "corpus = []\n",
    "vectorizer = CountVectorizer(min_df=1)\n",
    "for df in dataframes.values():\n",
    "    for title in df['title']:\n",
    "        corpus.append(title)\n",
    "    for content in df['content']:\n",
    "        corpus.append(content)\n",
    "X = vectorizer.fit_transform(corpus)"
   ]
  },
  {
   "cell_type": "code",
   "execution_count": 9,
   "metadata": {
    "collapsed": true,
    "deletable": true,
    "editable": true
   },
   "outputs": [],
   "source": [
    "analyzer = vectorizer.build_analyzer()\n",
    "tokenizer = vectorizer.build_tokenizer()"
   ]
  },
  {
   "cell_type": "code",
   "execution_count": 10,
   "metadata": {
    "collapsed": true,
    "deletable": true,
    "editable": true
   },
   "outputs": [],
   "source": [
    "for df in dataframes.values():\n",
    "    df[\"title\"] = df[\"title\"].map(analyzer)\n",
    "    df[\"content\"] = df[\"content\"].map(analyzer)\n",
    "    df[\"tags\"] = df[\"tags\"].map(tokenizer)"
   ]
  },
  {
   "cell_type": "code",
   "execution_count": 11,
   "metadata": {
    "collapsed": false,
    "deletable": true,
    "editable": true
   },
   "outputs": [
    {
     "data": {
      "text/html": [
       "<div>\n",
       "<table border=\"1\" class=\"dataframe\">\n",
       "  <thead>\n",
       "    <tr style=\"text-align: right;\">\n",
       "      <th></th>\n",
       "      <th>id</th>\n",
       "      <th>title</th>\n",
       "      <th>content</th>\n",
       "      <th>tags</th>\n",
       "    </tr>\n",
       "  </thead>\n",
       "  <tbody>\n",
       "    <tr>\n",
       "      <th>0</th>\n",
       "      <td>1</td>\n",
       "      <td>[how, can, get, chewy, chocolate, chip, cookies]</td>\n",
       "      <td>[my, chocolate, chips, cookies, are, always, t...</td>\n",
       "      <td>[baking, cookies, texture]</td>\n",
       "    </tr>\n",
       "    <tr>\n",
       "      <th>1</th>\n",
       "      <td>2</td>\n",
       "      <td>[how, should, cook, bacon, in, an, oven]</td>\n",
       "      <td>[ve, heard, of, people, cooking, bacon, in, an...</td>\n",
       "      <td>[oven, cooking, time, bacon]</td>\n",
       "    </tr>\n",
       "    <tr>\n",
       "      <th>2</th>\n",
       "      <td>3</td>\n",
       "      <td>[what, is, the, difference, between, white, an...</td>\n",
       "      <td>[always, use, brown, extra, large, eggs, but, ...</td>\n",
       "      <td>[eggs]</td>\n",
       "    </tr>\n",
       "    <tr>\n",
       "      <th>3</th>\n",
       "      <td>4</td>\n",
       "      <td>[what, is, the, difference, between, baking, s...</td>\n",
       "      <td>[and, can, use, one, in, place, of, the, other...</td>\n",
       "      <td>[substitutions, please, remove, this, tag, bak...</td>\n",
       "    </tr>\n",
       "    <tr>\n",
       "      <th>4</th>\n",
       "      <td>5</td>\n",
       "      <td>[in, tomato, sauce, recipe, how, can, cut, the...</td>\n",
       "      <td>[it, seems, that, every, time, make, tomato, s...</td>\n",
       "      <td>[sauce, pasta, tomatoes, italian, cuisine]</td>\n",
       "    </tr>\n",
       "  </tbody>\n",
       "</table>\n",
       "</div>"
      ],
      "text/plain": [
       "   id                                              title  \\\n",
       "0   1   [how, can, get, chewy, chocolate, chip, cookies]   \n",
       "1   2           [how, should, cook, bacon, in, an, oven]   \n",
       "2   3  [what, is, the, difference, between, white, an...   \n",
       "3   4  [what, is, the, difference, between, baking, s...   \n",
       "4   5  [in, tomato, sauce, recipe, how, can, cut, the...   \n",
       "\n",
       "                                             content  \\\n",
       "0  [my, chocolate, chips, cookies, are, always, t...   \n",
       "1  [ve, heard, of, people, cooking, bacon, in, an...   \n",
       "2  [always, use, brown, extra, large, eggs, but, ...   \n",
       "3  [and, can, use, one, in, place, of, the, other...   \n",
       "4  [it, seems, that, every, time, make, tomato, s...   \n",
       "\n",
       "                                                tags  \n",
       "0                         [baking, cookies, texture]  \n",
       "1                       [oven, cooking, time, bacon]  \n",
       "2                                             [eggs]  \n",
       "3  [substitutions, please, remove, this, tag, bak...  \n",
       "4         [sauce, pasta, tomatoes, italian, cuisine]  "
      ]
     },
     "execution_count": 11,
     "metadata": {},
     "output_type": "execute_result"
    }
   ],
   "source": [
    "dataframes['cooking'].head()"
   ]
  },
  {
   "cell_type": "code",
   "execution_count": null,
   "metadata": {
    "collapsed": true
   },
   "outputs": [],
   "source": []
  }
 ],
 "metadata": {
  "kernelspec": {
   "display_name": "Python 3",
   "language": "python",
   "name": "python3"
  },
  "language_info": {
   "codemirror_mode": {
    "name": "ipython",
    "version": 3
   },
   "file_extension": ".py",
   "mimetype": "text/x-python",
   "name": "python",
   "nbconvert_exporter": "python",
   "pygments_lexer": "ipython3",
   "version": "3.5.2"
  }
 },
 "nbformat": 4,
 "nbformat_minor": 0
}
